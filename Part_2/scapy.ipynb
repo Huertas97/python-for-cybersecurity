{
 "cells": [
  {
   "cell_type": "code",
   "execution_count": 1,
   "metadata": {},
   "outputs": [
    {
     "name": "stderr",
     "output_type": "stream",
     "text": [
      "/mnt/almacenamiento/miniconda3/envs/CYBERSECURITY_ENV/lib/python3.11/site-packages/scapy/layers/ipsec.py:469: CryptographyDeprecationWarning: Blowfish has been moved to cryptography.hazmat.decrepit.ciphers.algorithms.Blowfish and will be removed from this module in 45.0.0.\n",
      "  cipher=algorithms.Blowfish,\n",
      "/mnt/almacenamiento/miniconda3/envs/CYBERSECURITY_ENV/lib/python3.11/site-packages/scapy/layers/ipsec.py:476: CryptographyDeprecationWarning: TripleDES has been moved to cryptography.hazmat.decrepit.ciphers.algorithms.TripleDES and will be removed from this module in 48.0.0.\n",
      "  cipher=algorithms.TripleDES,\n",
      "/mnt/almacenamiento/miniconda3/envs/CYBERSECURITY_ENV/lib/python3.11/site-packages/scapy/layers/ipsec.py:480: CryptographyDeprecationWarning: TripleDES has been moved to cryptography.hazmat.decrepit.ciphers.algorithms.TripleDES and will be removed from this module in 48.0.0.\n",
      "  cipher=algorithms.TripleDES,\n",
      "/mnt/almacenamiento/miniconda3/envs/CYBERSECURITY_ENV/lib/python3.11/site-packages/scapy/layers/ipsec.py:483: CryptographyDeprecationWarning: CAST5 has been moved to cryptography.hazmat.decrepit.ciphers.algorithms.CAST5 and will be removed from this module in 45.0.0.\n",
      "  cipher=algorithms.CAST5,\n"
     ]
    }
   ],
   "source": [
    "from scapy.all import *"
   ]
  },
  {
   "cell_type": "code",
   "execution_count": 2,
   "metadata": {},
   "outputs": [],
   "source": [
    "packet = rdpcap('http.cap')"
   ]
  },
  {
   "cell_type": "code",
   "execution_count": 3,
   "metadata": {},
   "outputs": [
    {
     "data": {
      "text/plain": [
       "<http.cap: TCP:41 UDP:2 ICMP:0 Other:0>"
      ]
     },
     "execution_count": 3,
     "metadata": {},
     "output_type": "execute_result"
    }
   ],
   "source": [
    "packet"
   ]
  },
  {
   "cell_type": "code",
   "execution_count": 4,
   "metadata": {},
   "outputs": [
    {
     "name": "stdout",
     "output_type": "stream",
     "text": [
      "###[ Ethernet ]### \n",
      "  dst       = fe:ff:20:00:01:00\n",
      "  src       = 00:00:01:00:00:00\n",
      "  type      = IPv4\n",
      "###[ IP ]### \n",
      "     version   = 4\n",
      "     ihl       = 5\n",
      "     tos       = 0x0\n",
      "     len       = 48\n",
      "     id        = 3905\n",
      "     flags     = DF\n",
      "     frag      = 0\n",
      "     ttl       = 128\n",
      "     proto     = tcp\n",
      "     chksum    = 0x91eb\n",
      "     src       = 145.254.160.237\n",
      "     dst       = 65.208.228.223\n",
      "     \\options   \\\n",
      "###[ TCP ]### \n",
      "        sport     = 3372\n",
      "        dport     = http\n",
      "        seq       = 951057939\n",
      "        ack       = 0\n",
      "        dataofs   = 7\n",
      "        reserved  = 0\n",
      "        flags     = S\n",
      "        window    = 8760\n",
      "        chksum    = 0xc30c\n",
      "        urgptr    = 0\n",
      "        options   = [('MSS', 1460), ('NOP', None), ('NOP', None), ('SAckOK', b'')]\n",
      "\n"
     ]
    }
   ],
   "source": [
    "p = packet[0]\n",
    "p.show()"
   ]
  },
  {
   "cell_type": "code",
   "execution_count": 5,
   "metadata": {},
   "outputs": [
    {
     "name": "stdout",
     "output_type": "stream",
     "text": [
      "###[ Ethernet ]### \n",
      "  dst       = fe:ff:20:00:01:00\n",
      "  src       = 00:00:01:00:00:00\n",
      "  type      = IPv4\n",
      "###[ IP ]### \n",
      "     version   = 4\n",
      "     ihl       = 5\n",
      "     tos       = 0x0\n",
      "     len       = 519\n",
      "     id        = 3909\n",
      "     flags     = DF\n",
      "     frag      = 0\n",
      "     ttl       = 128\n",
      "     proto     = tcp\n",
      "     chksum    = 0x9010\n",
      "     src       = 145.254.160.237\n",
      "     dst       = 65.208.228.223\n",
      "     \\options   \\\n",
      "###[ TCP ]### \n",
      "        sport     = 3372\n",
      "        dport     = http\n",
      "        seq       = 951057940\n",
      "        ack       = 290218380\n",
      "        dataofs   = 5\n",
      "        reserved  = 0\n",
      "        flags     = PA\n",
      "        window    = 9660\n",
      "        chksum    = 0xa958\n",
      "        urgptr    = 0\n",
      "        options   = []\n",
      "###[ Raw ]### \n",
      "           load      = 'GET /download.html HTTP/1.1\\r\\nHost: www.ethereal.com\\r\\nUser-Agent: Mozilla/5.0 (Windows; U; Windows NT 5.1; en-US; rv:1.6) Gecko/20040113\\r\\nAccept: text/xml,application/xml,application/xhtml+xml,text/html;q=0.9,text/plain;q=0.8,image/png,image/jpeg,image/gif;q=0.2,*/*;q=0.1\\r\\nAccept-Language: en-us,en;q=0.5\\r\\nAccept-Encoding: gzip,deflate\\r\\nAccept-Charset: ISO-8859-1,utf-8;q=0.7,*;q=0.7\\r\\nKeep-Alive: 300\\r\\nConnection: keep-alive\\r\\nReferer: http://www.ethereal.com/development.html\\r\\n\\r\\n'\n",
      "\n"
     ]
    }
   ],
   "source": [
    "p = packet[3]\n",
    "p.show()"
   ]
  },
  {
   "cell_type": "code",
   "execution_count": 11,
   "metadata": {},
   "outputs": [
    {
     "data": {
      "text/plain": [
       "<TCP  sport=3372 dport=http_alt seq=951057940 ack=290218380 dataofs=5 reserved=0 flags=PA window=9660 chksum=0xa958 urgptr=0 |<Raw  load='GET /download.html HTTP/1.1\\r\\nHost: www.ethereal.com\\r\\nUser-Agent: Mozilla/5.0 (Windows; U; Windows NT 5.1; en-US; rv:1.6) Gecko/20040113\\r\\nAccept: text/xml,application/xml,application/xhtml+xml,text/html;q=0.9,text/plain;q=0.8,image/png,image/jpeg,image/gif;q=0.2,*/*;q=0.1\\r\\nAccept-Language: en-us,en;q=0.5\\r\\nAccept-Encoding: gzip,deflate\\r\\nAccept-Charset: ISO-8859-1,utf-8;q=0.7,*;q=0.7\\r\\nKeep-Alive: 300\\r\\nConnection: keep-alive\\r\\nReferer: http://www.ethereal.com/development.html\\r\\n\\r\\n' |>>"
      ]
     },
     "execution_count": 11,
     "metadata": {},
     "output_type": "execute_result"
    }
   ],
   "source": [
    "p[\"TCP\"].dport = 8080 # check that 8080 is substituted or presentes as http_alt (alternative of port 80 of http)\n",
    "p[\"TCP\"]"
   ]
  },
  {
   "cell_type": "code",
   "execution_count": 13,
   "metadata": {},
   "outputs": [
    {
     "name": "stdout",
     "output_type": "stream",
     "text": [
      "###[ IP ]### \n",
      "  version   = 4\n",
      "  ihl       = None\n",
      "  tos       = 0x0\n",
      "  len       = None\n",
      "  id        = 1\n",
      "  flags     = \n",
      "  frag      = 0\n",
      "  ttl       = 64\n",
      "  proto     = tcp\n",
      "  chksum    = None\n",
      "  src       = 127.0.0.1\n",
      "  dst       = 127.0.0.1\n",
      "  \\options   \\\n",
      "###[ TCP ]### \n",
      "     sport     = ftp_data\n",
      "     dport     = http\n",
      "     seq       = 0\n",
      "     ack       = 0\n",
      "     dataofs   = None\n",
      "     reserved  = 0\n",
      "     flags     = S\n",
      "     window    = 8192\n",
      "     chksum    = None\n",
      "     urgptr    = 0\n",
      "     options   = []\n",
      "\n"
     ]
    }
   ],
   "source": [
    "# We can create a package from scratch\n",
    "# scapy populates it with default values\n",
    "# as we can see in the following example\n",
    "# with sport (source port) = 20 and dport (destination port) = 80\n",
    "p = IP()/TCP()\n",
    "p.show()"
   ]
  },
  {
   "cell_type": "code",
   "execution_count": 17,
   "metadata": {},
   "outputs": [
    {
     "name": "stdout",
     "output_type": "stream",
     "text": [
      "###[ IP ]### \n",
      "  version   = 4\n",
      "  ihl       = None\n",
      "  tos       = 0x0\n",
      "  len       = None\n",
      "  id        = 1\n",
      "  flags     = \n",
      "  frag      = 0\n",
      "  ttl       = 64\n",
      "  proto     = tcp\n",
      "  chksum    = None\n",
      "  src       = 10.153.19.48\n",
      "  dst       = 8.8.8.8\n",
      "  \\options   \\\n",
      "###[ TCP ]### \n",
      "     sport     = ftp_data\n",
      "     dport     = domain\n",
      "     seq       = 0\n",
      "     ack       = 0\n",
      "     dataofs   = None\n",
      "     reserved  = 0\n",
      "     flags     = S\n",
      "     window    = 8192\n",
      "     chksum    = None\n",
      "     urgptr    = 0\n",
      "     options   = []\n",
      "\n"
     ]
    }
   ],
   "source": [
    "p = IP(dst=\"8.8.8.8\")/TCP(dport=53)\n",
    "p.show()"
   ]
  },
  {
   "cell_type": "code",
   "execution_count": 18,
   "metadata": {},
   "outputs": [
    {
     "name": "stdout",
     "output_type": "stream",
     "text": [
      "###[ IP ]### \n",
      "  version   = 4\n",
      "  ihl       = None\n",
      "  tos       = 0x0\n",
      "  len       = None\n",
      "  id        = 1\n",
      "  flags     = \n",
      "  frag      = 0\n",
      "  ttl       = 64\n",
      "  proto     = udp\n",
      "  chksum    = None\n",
      "  src       = 10.153.19.48\n",
      "  dst       = 8.8.8.8\n",
      "  \\options   \\\n",
      "###[ UDP ]### \n",
      "     sport     = domain\n",
      "     dport     = domain\n",
      "     len       = None\n",
      "     chksum    = None\n",
      "###[ DNS ]### \n",
      "        id        = 0\n",
      "        qr        = 0\n",
      "        opcode    = QUERY\n",
      "        aa        = 0\n",
      "        tc        = 0\n",
      "        rd        = 1\n",
      "        ra        = 0\n",
      "        z         = 0\n",
      "        ad        = 0\n",
      "        cd        = 0\n",
      "        rcode     = ok\n",
      "        qdcount   = 0\n",
      "        ancount   = 0\n",
      "        nscount   = 0\n",
      "        arcount   = 0\n",
      "        qd        = None\n",
      "        an        = None\n",
      "        ns        = None\n",
      "        ar        = None\n",
      "\n"
     ]
    }
   ],
   "source": [
    "# create a custom DNS package\n",
    "p = IP(dst=\"8.8.8.8\")/UDP(dport=53)/DNS()\n",
    "p.show()"
   ]
  }
 ],
 "metadata": {
  "kernelspec": {
   "display_name": "CYBERSECURITY_ENV",
   "language": "python",
   "name": "python3"
  },
  "language_info": {
   "codemirror_mode": {
    "name": "ipython",
    "version": 3
   },
   "file_extension": ".py",
   "mimetype": "text/x-python",
   "name": "python",
   "nbconvert_exporter": "python",
   "pygments_lexer": "ipython3",
   "version": "3.11.10"
  }
 },
 "nbformat": 4,
 "nbformat_minor": 2
}
